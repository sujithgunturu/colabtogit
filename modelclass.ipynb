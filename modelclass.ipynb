{
  "nbformat": 4,
  "nbformat_minor": 0,
  "metadata": {
    "colab": {
      "name": "modelclass.ipynb",
      "provenance": [],
      "collapsed_sections": [],
      "authorship_tag": "ABX9TyNkqWa3rLSxZgXpV8CeaQC/",
      "include_colab_link": true
    },
    "kernelspec": {
      "name": "python3",
      "display_name": "Python 3"
    },
    "language_info": {
      "name": "python"
    }
  },
  "cells": [
    {
      "cell_type": "markdown",
      "metadata": {
        "id": "view-in-github",
        "colab_type": "text"
      },
      "source": [
        "<a href=\"https://colab.research.google.com/github/sujithgunturu/colabtogit/blob/main/modelclass.ipynb\" target=\"_parent\"><img src=\"https://colab.research.google.com/assets/colab-badge.svg\" alt=\"Open In Colab\"/></a>"
      ]
    },
    {
      "cell_type": "code",
      "metadata": {
        "id": "FEZCxi-wfFDF"
      },
      "source": [
        "class LeafModel(tez.Model):\n",
        "  def __init__(self, num_classes = 3):\n",
        "    super().__init__()\n",
        "\n",
        "\n",
        "    self.effnet = EfficientNet.from_pretrained(\"efficientnet-b4\")\n",
        "    self.dropout = nn.Dropout(0.1)\n",
        "    self.out = nn.Linear(1792, num_classes)\n",
        "    self.step_scheduler_after = \"epoch\"\n",
        " \n",
        "  def loss(self, outputs, targets):\n",
        "    if targets is None:\n",
        "      return None\n",
        "    return nn.CrossEntropyLoss()(outputs, targets)\n",
        "\n",
        "\n",
        "  def monitor_metrics(self, outputs, targets):\n",
        "    outputs = torch.argmax(outputs, dim=1).cpu().detach().numpy()\n",
        "    targets = targets.cpu().detach().numpy()\n",
        "    acc =  metrics.accuracy_score(targets, outputs)\n",
        "    return {\n",
        "        \"accuracy\": acc\n",
        "    }\n",
        "  \n",
        "  def fetch_optimizer(self):\n",
        "    opt = torch.optim.Adam(self.parameters(), lr = 1e-3)\n",
        "    return opt\n",
        "  def fetch_scheduler(self):\n",
        "    sch = torch.optim.lr_scheduler.StepLR(self.optimizer, step_size = 0.7)\n",
        "    return sch\n",
        "\n",
        "  def forward(self, image, targets = None):  \n",
        "    batch_size, _, _, _ = image.shape\n",
        "    x = self.effnet.extract_features(image)\n",
        "    x = F.adaptive_avg_pool2d(x, 1).reshape(batch_size, -1)\n",
        "    outputs = self.out(self.dropout(x))\n",
        "    if targets is not None:\n",
        "       loss = self.loss(outputs, targets)\n",
        "       metrics = self.monitor_metrics(outputs, targets)\n",
        "       self.loss_tracker.append(loss)\n",
        "       self.accuracy_tracker.append(metrics[\"accuracy\"])\n",
        "\n",
        "       return outputs, loss, metrics\n",
        "    return outputs, None, None"
      ],
      "execution_count": null,
      "outputs": []
    },
    {
      "cell_type": "code",
      "metadata": {
        "id": "Kq7O_5O8fKqX"
      },
      "source": [
        "class LeafModel(tez.Model):\n",
        "  def __init__(self, num_classes = 3):\n",
        "    super().__init__()\n",
        "    self.convnet = torchvision.models.resnet18(pretrained=True)\n",
        "    self.convnet.fc = nn.Linear(512, num_classes)\n",
        "    self.step_scheduler_after = \"epoch\"\n",
        "   \n",
        "  def loss(self, outputs, targets):\n",
        "    if targets is None:\n",
        "      return None\n",
        "    return nn.CrossEntropyLoss()(outputs, targets)\n",
        "    \n",
        "  def monitor_metrics(self, outputs, targets):\n",
        "    outputs = torch.argmax(outputs, dim=1).cpu().detach().numpy()\n",
        "    targets = targets.cpu().detach().numpy()\n",
        "    acc =  metrics.accuracy_score(targets, outputs)\n",
        "    return {\n",
        "        \"accuracy\": acc\n",
        "    }\n",
        "  \n",
        "  def fetch_optimizer(self):\n",
        "    opt = torch.optim.Adam(self.parameters(), lr = 1e-3)\n",
        "    return opt\n",
        "  def fetch_scheduler(self):\n",
        "    sch = torch.optim.lr_scheduler.StepLR(self.optimizer, step_size = 0.7)\n",
        "    return sch\n",
        "\n",
        "  def forward(self, image, targets = None):\n",
        "    outputs = self.convnet(image)\n",
        "    if targets is not None:\n",
        "       loss = self.loss(outputs, targets)\n",
        "       metrics = self.monitor_metrics(outputs, targets)\n",
        "       return outputs, loss, metrics\n",
        "    return outputs, None, None"
      ],
      "execution_count": null,
      "outputs": []
    }
  ]
}