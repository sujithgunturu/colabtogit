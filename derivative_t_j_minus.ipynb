{
  "nbformat": 4,
  "nbformat_minor": 0,
  "metadata": {
    "colab": {
      "name": "derivative_t_j_minus.ipynb",
      "provenance": [],
      "collapsed_sections": [],
      "authorship_tag": "ABX9TyMCf1/7MBEYreag0UWRZ3tP",
      "include_colab_link": true
    },
    "kernelspec": {
      "display_name": "Python 3",
      "name": "python3"
    },
    "language_info": {
      "name": "python"
    }
  },
  "cells": [
    {
      "cell_type": "markdown",
      "metadata": {
        "id": "view-in-github",
        "colab_type": "text"
      },
      "source": [
        "<a href=\"https://colab.research.google.com/github/sujithgunturu/colabtogit/blob/main/derivative_t_j_minus.ipynb\" target=\"_parent\"><img src=\"https://colab.research.google.com/assets/colab-badge.svg\" alt=\"Open In Colab\"/></a>"
      ]
    },
    {
      "cell_type": "code",
      "metadata": {
        "id": "x_9ValAb4odD"
      },
      "source": [
        "from scipy.special import betainc, beta, gamma\n",
        "import math\n",
        "import numpy as np\n",
        "import matplotlib.pyplot as plt"
      ],
      "execution_count": null,
      "outputs": []
    },
    {
      "cell_type": "code",
      "metadata": {
        "id": "EfDYsQXY4p_e"
      },
      "source": [
        "def Tow(const):\n",
        "  return gamma(const)"
      ],
      "execution_count": null,
      "outputs": []
    },
    {
      "cell_type": "code",
      "metadata": {
        "id": "3-v4Mqgq4rgq"
      },
      "source": [
        "def pmf(t_j):\n",
        "  m = 100\n",
        "  k =1.442\n",
        "  term1 = Tow(m+k)/((math.factorial(m) * Tow(k)))\n",
        "  term2 = (t_j/(t_j+k))**m\n",
        "  term3 = (k/(t_j+k))**k\n",
        "  return term1 * term2 * term3"
      ],
      "execution_count": null,
      "outputs": []
    },
    {
      "cell_type": "code",
      "metadata": {
        "id": "2peUxhof4t-f"
      },
      "source": [
        "m_max = 100\n",
        "k = 1.442\n",
        "a = (m_max+k)/k"
      ],
      "execution_count": null,
      "outputs": []
    },
    {
      "cell_type": "code",
      "metadata": {
        "id": "qtuoIlTtcBPG"
      },
      "source": [
        "def pmfdash(t_j):\n",
        "  term1 = pmf(t_j)\n",
        "  term2 = (k*(m_max-t_j))/(t_j *(t_j+k))\n",
        "  return term1*term2\n",
        "  "
      ],
      "execution_count": null,
      "outputs": []
    },
    {
      "cell_type": "code",
      "metadata": {
        "id": "UHg3Zq0W5r0m"
      },
      "source": [
        "def I(t_j):\n",
        "  global m_max, k\n",
        "  return betainc(k, m_max+1, k/(t_j+k))"
      ],
      "execution_count": null,
      "outputs": []
    },
    {
      "cell_type": "code",
      "metadata": {
        "id": "PEMJveI85tpK"
      },
      "source": [
        "def Idash(t_j):\n",
        "  global m_max, k\n",
        "  z = k/(t_j+k)\n",
        "  a = k\n",
        "  b = m_max + 1\n",
        "  term1 = (1-z)**(b-1)\n",
        "  term2 = z**(a-1)\n",
        "  chainterm = -k/((k+t_j)**2)\n",
        "  return (term1 * term2* chainterm)/beta(a, b)"
      ],
      "execution_count": null,
      "outputs": []
    },
    {
      "cell_type": "code",
      "metadata": {
        "id": "EPaFeCxm5vSn"
      },
      "source": [
        "def mainfunction(t_j):\n",
        "  global a\n",
        "  term1 = pmf(t_j)/I(t_j)\n",
        "  term2 = (t_j * pmfdash(t_j))/ I(t_j)\n",
        "  term3 = ((t_j) * (pmf(t_j) * Idash(t_j))) /I(t_j)**2\n",
        "  return 1 - (a *(term1 + term2 - term3))\n",
        "  "
      ],
      "execution_count": null,
      "outputs": []
    },
    {
      "cell_type": "code",
      "metadata": {
        "colab": {
          "base_uri": "https://localhost:8080/",
          "height": 282
        },
        "id": "jFG_FFVT5xXN",
        "outputId": "995436e7-5510-49fb-e7cf-341c04a96076"
      },
      "source": [
        "arr = []\n",
        "for i in range(1, 200):\n",
        "  arr.append(mainfunction(i))\n",
        "plt.plot(arr)\n"
      ],
      "execution_count": null,
      "outputs": [
        {
          "output_type": "execute_result",
          "data": {
            "text/plain": [
              "[<matplotlib.lines.Line2D at 0x7f939c858890>]"
            ]
          },
          "metadata": {},
          "execution_count": 65
        },
        {
          "output_type": "display_data",
          "data": {
            "image/png": "[encoded data removed]",
            "text/plain": [
              "<Figure size 432x288 with 1 Axes>"
            ]
          },
          "metadata": {
            "needs_background": "light"
          }
        }
      ]
    },
    {
      "cell_type": "markdown",
      "metadata": {
        "id": "i-eb115Zdf6R"
      },
      "source": [
        "with scipy\n"
      ]
    },
    {
      "cell_type": "code",
      "metadata": {
        "id": "Jcxa3RJxbRBk"
      },
      "source": [
        "from scipy.misc import derivative"
      ],
      "execution_count": null,
      "outputs": []
    },
    {
      "cell_type": "code",
      "metadata": {
        "id": "J4YeBZNfdi4M"
      },
      "source": [
        "def t_j_minusss(t_j):\n",
        "  m_max = 100\n",
        "  k =1.442\n",
        "  a = (m_max + k)/k\n",
        "  return t_j  - (t_j * ((a)*(pmf(t_j)/betainc(k, m_max+1, (k/(t_j+k))))))"
      ],
      "execution_count": null,
      "outputs": []
    },
    {
      "cell_type": "code",
      "metadata": {
        "colab": {
          "base_uri": "https://localhost:8080/",
          "height": 282
        },
        "id": "v2BBF8szdldt",
        "outputId": "4fd103a6-f094-402c-84b6-d46edb34a0d3"
      },
      "source": [
        "checkarr = []\n",
        "for i in range(1, 200):\n",
        "  checkarr.append(derivative(t_j_minusss, i))\n",
        "plt.plot(checkarr)"
      ],
      "execution_count": null,
      "outputs": [
        {
          "output_type": "execute_result",
          "data": {
            "text/plain": [
              "[<matplotlib.lines.Line2D at 0x7f939c85d910>]"
            ]
          },
          "metadata": {},
          "execution_count": 68
        },
        {
          "output_type": "display_data",
          "data": {
            "image/png": "[encoded data removed]",
            "text/plain": [
              "<Figure size 432x288 with 1 Axes>"
            ]
          },
          "metadata": {
            "needs_background": "light"
          }
        }
      ]
    },
    {
      "cell_type": "code",
      "metadata": {
        "colab": {
          "base_uri": "https://localhost:8080/",
          "height": 282
        },
        "id": "bh2C20GfeecO",
        "outputId": "be8980df-f2d8-46b7-d350-207f834a51af"
      },
      "source": [
        "plt.plot(np.array(checkarr) - np.array(arr))"
      ],
      "execution_count": null,
      "outputs": [
        {
          "output_type": "execute_result",
          "data": {
            "text/plain": [
              "[<matplotlib.lines.Line2D at 0x7f9397cac410>]"
            ]
          },
          "metadata": {},
          "execution_count": 69
        },
        {
          "output_type": "display_data",
          "data": {
            "image/png": "[encoded data removed]",
            "text/plain": [
              "<Figure size 432x288 with 1 Axes>"
            ]
          },
          "metadata": {
            "needs_background": "light"
          }
        }
      ]
    },
    {
      "cell_type": "code",
      "metadata": {
        "id": "hoQeHBiIwDvH"
      },
      "source": [
        ""
      ],
      "execution_count": null,
      "outputs": []
    }
  ]
}