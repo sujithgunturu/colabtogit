{
  "nbformat": 4,
  "nbformat_minor": 0,
  "metadata": {
    "colab": {
      "name": "paycom coding",
      "provenance": [],
      "collapsed_sections": [],
      "authorship_tag": "ABX9TyOP+36zzripsdm52rUqS9BJ",
      "include_colab_link": true
    },
    "kernelspec": {
      "name": "python3",
      "display_name": "Python 3"
    },
    "language_info": {
      "name": "python"
    }
  },
  "cells": [
    {
      "cell_type": "markdown",
      "metadata": {
        "id": "view-in-github",
        "colab_type": "text"
      },
      "source": [
        "<a href=\"https://colab.research.google.com/github/sujithgunturu/colabtogit/blob/main/paycom_coding.ipynb\" target=\"_parent\"><img src=\"https://colab.research.google.com/assets/colab-badge.svg\" alt=\"Open In Colab\"/></a>"
      ]
    },
    {
      "cell_type": "code",
      "metadata": {
        "id": "BEcJVPhwcJRC"
      },
      "source": [
        "# OOPS, Database, Projects, Polymorphism, Inheritance"
      ],
      "execution_count": null,
      "outputs": []
    },
    {
      "cell_type": "code",
      "metadata": {
        "colab": {
          "base_uri": "https://localhost:8080/"
        },
        "id": "GBr4536wC2ve",
        "outputId": "b3daf361-111e-4695-bd4e-dafcb17eb863"
      },
      "source": [
        "def givepairs(arr, n):\n",
        "  totalarr = []\n",
        "  out = []\n",
        "  for i in arr:\n",
        "    for j in i:\n",
        "      totalarr.append(j)\n",
        "  for i in range(len(totalarr)):\n",
        "    for j in range(i+1, len(totalarr)):\n",
        "      if totalarr[i] - totalarr[j] == n or totalarr[j] - totalarr[i] == n:\n",
        "        out.append([totalarr[i], totalarr[j]])\n",
        "      # if i - j == n or j - i == n:\n",
        "      #   out.append([i, j])\n",
        "  return out\n",
        "arr = [[2,4], [5,8], [10,12], [18,4], [6,4]]\n",
        "givepairs(arr, 2)"
      ],
      "execution_count": null,
      "outputs": [
        {
          "output_type": "execute_result",
          "data": {
            "text/plain": [
              "[[2, 4], [2, 4], [2, 4], [4, 6], [8, 10], [8, 6], [10, 12], [4, 6], [6, 4]]"
            ]
          },
          "metadata": {},
          "execution_count": 9
        }
      ]
    },
    {
      "cell_type": "code",
      "metadata": {
        "id": "1kMzylvlFnCZ"
      },
      "source": [
        "\n",
        "\n",
        "# [2,4] [5,8] [10,12] [18,4] [6,4] [14,8].........\n",
        "\n",
        "# n = 2\n",
        "\n",
        "# \n",
        "\n",
        "def givepairs(arr, n):\n",
        "    out = []\n",
        "    for val in arr:\n",
        "        if val[0] - val[1] == n:\n",
        "            out.append(val)\n",
        "        else:\n",
        "            continue\n",
        "    return out\n",
        "    # totalarr = []\n",
        "    # out = []\n",
        "    # for i in arr:\n",
        "    #     for j in i:\n",
        "    #         totalarr.append(j)\n",
        "    # for i in range(len(totalarr)):\n",
        "    #     for j in range(i+1, len(totalarr)):\n",
        "    #         if totalarr[i] -totalarr[j] == n or totalarr[j]-totalarr[i] == n:\n",
        "    #             out.append([totalarr[i], totalarr[j]])\n",
        "    # return out\n",
        "                 \n",
        "arr = [[2,4], [5,8], [10,12], [18,4], [6,4]]\n",
        "print(givepairs(arr, 2))"
      ],
      "execution_count": null,
      "outputs": []
    },
    {
      "cell_type": "code",
      "metadata": {
        "id": "d6CxvHLlISCa"
      },
      "source": [
        "def pairs(arr, n):\n",
        "  for i in arr:\n",
        "    for j in i:\n",
        "      for k in arr:\n",
        "        for l in k:\n",
        "          if j - l == n:\n",
        "            print([j, l])"
      ],
      "execution_count": null,
      "outputs": []
    },
    {
      "cell_type": "code",
      "metadata": {
        "id": "471UchQ5IfZT"
      },
      "source": [
        "arr = [[2,4], [5,8], [10,12], [18,4], [6,4]]\n",
        "print(pairs(arr, 2))"
      ],
      "execution_count": null,
      "outputs": []
    },
    {
      "cell_type": "code",
      "metadata": {
        "id": "rgrQzJg7ghgs"
      },
      "source": [
        "# Find if binary tree is binary search tree\n",
        "https://leetcode.com/problems/validate-binary-search-tree/submissions/"
      ],
      "execution_count": null,
      "outputs": []
    },
    {
      "cell_type": "code",
      "metadata": {
        "id": "5UT-DdZrgq55"
      },
      "source": [
        "# Duplicate elements in a list\n",
        "def removedups(arr):\n",
        "  '''\n",
        "  https://leetcode.com/problems/find-the-duplicate-number/submissions/\n",
        "  '''\n",
        "  fast = slow = arr[0]\n",
        "  while True:\n",
        "    slow = arr[slow]\n",
        "    fast = arr[arr[fast]]\n",
        "    if slow == fast:\n",
        "      break\n",
        "    slow = arr[0]\n",
        "    while fast != slow:\n",
        "      slow = arr[slow]\n",
        "      fast = arr[fast]\n",
        "    return slow\n"
      ],
      "execution_count": null,
      "outputs": []
    },
    {
      "cell_type": "code",
      "metadata": {
        "id": "lBCHtq9dw4Ch"
      },
      "source": [
        "removedups([1,2,3,4,4,5,6,7])"
      ],
      "execution_count": null,
      "outputs": []
    },
    {
      "cell_type": "code",
      "metadata": {
        "id": "W1tsLOgLRI7g"
      },
      "source": [
        "def dups(arr):\n",
        "  for i in range(len(arr)):\n",
        "    for j in range(i+1, len(arr)):\n",
        "      if arr[i] == arr[j]:\n",
        "        return arr[i]\n"
      ],
      "execution_count": null,
      "outputs": []
    },
    {
      "cell_type": "code",
      "metadata": {
        "id": "PPjCGJfkRVco"
      },
      "source": [
        "dups([1,2,3,4,4,5,6,7])"
      ],
      "execution_count": null,
      "outputs": []
    },
    {
      "cell_type": "code",
      "metadata": {
        "id": "BGDaQfYmg0Ps"
      },
      "source": [
        "# 100 doors and if 1 door changes state then all the next doors will as well. Predict state of doors after operations."
      ],
      "execution_count": null,
      "outputs": []
    },
    {
      "cell_type": "code",
      "metadata": {
        "id": "fF6EirMTg4q7"
      },
      "source": [
        "# Asked about my familiarity with payroll software."
      ],
      "execution_count": null,
      "outputs": []
    },
    {
      "cell_type": "code",
      "metadata": {
        "id": "v6aP6W17g5cP"
      },
      "source": [
        "# 1)  Difference between interfaces and Abstract classes\n",
        "An abstract class permits you to make functionality that subclasses can implement or \n",
        "override whereas an interface only permits you to state functionality but not to implement it\n",
        "# 2) Http Get and POST requests\n",
        "\n",
        "# 3) What happens when you click on a website ( Explain the client server working on the web (DNS))\n",
        "The browser sends an HTTP request to the webserver.\n",
        "# 4) Dependency Injection, Inversion Control -> I have mentioned in my resume."
      ],
      "execution_count": null,
      "outputs": []
    },
    {
      "cell_type": "code",
      "metadata": {
        "id": "ChtXa-C7hw9p"
      },
      "source": [
        "# 2) Remove duplicate characters from a string\n",
        "# 2) Find Common characters of 2 strings"
      ],
      "execution_count": null,
      "outputs": []
    },
    {
      "cell_type": "code",
      "metadata": {
        "id": "FaN98klVh1l5"
      },
      "source": [
        "# 1. Remove duplicates in a array of strings"
      ],
      "execution_count": null,
      "outputs": []
    },
    {
      "cell_type": "code",
      "metadata": {
        "id": "TcOeXLi6wOM0"
      },
      "source": [
        "arr = [1,2,3,4,5,6]\n",
        "i = 0\n",
        "while len(arr)>0:\n",
        "  print(arr[i])\n",
        "  arr.pop(0)"
      ],
      "execution_count": null,
      "outputs": []
    },
    {
      "cell_type": "code",
      "metadata": {
        "id": "4OXrbL9oeoZQ"
      },
      "source": [
        "arr = [1,2,3,4,5,6]\n",
        "arr"
      ],
      "execution_count": null,
      "outputs": []
    },
    {
      "cell_type": "code",
      "metadata": {
        "id": "9HLZVg2Hi30k"
      },
      "source": [
        "s = \"123321\"\n",
        "s"
      ],
      "execution_count": null,
      "outputs": []
    },
    {
      "cell_type": "code",
      "metadata": {
        "id": "Dr2cLAJhi_aJ"
      },
      "source": [
        "def ispalindrome(s):\n",
        "  i =0 \n",
        "  j = len(s) - 1\n",
        "  while i<=j:\n",
        "    if s[i] != s[j]:\n",
        "      return False\n",
        "    i = i + 1\n",
        "    j = j - 1\n",
        "  return True"
      ],
      "execution_count": null,
      "outputs": []
    },
    {
      "cell_type": "code",
      "metadata": {
        "colab": {
          "base_uri": "https://localhost:8080/"
        },
        "id": "-dULJaPGjYb5",
        "outputId": "7790b4f4-f612-488c-bcd1-42273d2acfcb"
      },
      "source": [
        "ispalindrome(s)"
      ],
      "execution_count": null,
      "outputs": [
        {
          "output_type": "execute_result",
          "data": {
            "text/plain": [
              "True"
            ]
          },
          "metadata": {},
          "execution_count": 26
        }
      ]
    },
    {
      "cell_type": "code",
      "metadata": {
        "id": "dKzpP2r5jaLD"
      },
      "source": [
        "for i in range(10):\n",
        "  if i%2 == 0:\n",
        "    continue\n",
        "  print(i)"
      ],
      "execution_count": null,
      "outputs": []
    },
    {
      "cell_type": "code",
      "metadata": {
        "id": "ezRmJSm-jxWC"
      },
      "source": [
        "def overloadedmethod1(a, b=1, c=1):\n",
        "  return 1\n",
        "def overloadedmethod1(a=2, b=2, c= 2):\n",
        "  return 2"
      ],
      "execution_count": null,
      "outputs": []
    },
    {
      "cell_type": "code",
      "metadata": {
        "id": "y-yIDgdvxHn3"
      },
      "source": [
        "overloadedmethod1(1)"
      ],
      "execution_count": null,
      "outputs": []
    },
    {
      "cell_type": "code",
      "metadata": {
        "id": "SlZw4ie1xbER"
      },
      "source": [
        "def binarysearch(arr, low, high, number):\n",
        "  mid = (low + high) // 2\n",
        "  if high >= high:\n",
        "    return False\n",
        "  if arr[mid] == number:\n",
        "    return True\n",
        "  elif arr[mid] <number:\n",
        "    return binarysearch(arr, mid+1, high, number)\n",
        "  else:\n",
        "    return binarysearch(arr, low, mid, number)"
      ],
      "execution_count": null,
      "outputs": []
    },
    {
      "cell_type": "code",
      "metadata": {
        "colab": {
          "base_uri": "https://localhost:8080/"
        },
        "id": "zDn1QLIv51td",
        "outputId": "96fef12a-44f8-4977-caee-ea4d7a3a20ba"
      },
      "source": [
        "print(binarysearch([1,2,3,4,5,6], 0, 6, 7))"
      ],
      "execution_count": null,
      "outputs": [
        {
          "output_type": "stream",
          "name": "stdout",
          "text": [
            "False\n"
          ]
        }
      ]
    }
  ]
}