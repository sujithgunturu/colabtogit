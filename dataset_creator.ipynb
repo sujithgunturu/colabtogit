{
  "nbformat": 4,
  "nbformat_minor": 0,
  "metadata": {
    "colab": {
      "name": "dataset_creator.ipynb",
      "provenance": [],
      "collapsed_sections": [],
      "authorship_tag": "ABX9TyMjXN7axJHQMuBJXhz6QivI",
      "include_colab_link": true
    },
    "kernelspec": {
      "name": "python3",
      "display_name": "Python 3"
    },
    "language_info": {
      "name": "python"
    }
  },
  "cells": [
    {
      "cell_type": "markdown",
      "metadata": {
        "id": "view-in-github",
        "colab_type": "text"
      },
      "source": [
        "<a href=\"https://colab.research.google.com/github/sujithgunturu/colabtogit/blob/main/dataset_creator.ipynb\" target=\"_parent\"><img src=\"https://colab.research.google.com/assets/colab-badge.svg\" alt=\"Open In Colab\"/></a>"
      ]
    },
    {
      "cell_type": "markdown",
      "metadata": {
        "id": "KrSo_QkvVkIV"
      },
      "source": [
        "### Needs to be done with single method. \n",
        "\n",
        "# don't revisit\n"
      ]
    },
    {
      "cell_type": "code",
      "metadata": {
        "colab": {
          "base_uri": "https://localhost:8080/"
        },
        "id": "L1xhj8IRS0Fg",
        "outputId": "f8a05c23-bee5-440a-a3b2-3f96003965e4"
      },
      "source": [
        "from PIL import Image\n",
        "from google.colab import drive\n",
        "drive.mount('/content/drive')\n",
        "import os\n",
        "import pandas as pd"
      ],
      "execution_count": null,
      "outputs": [
        {
          "output_type": "stream",
          "text": [
            "Mounted at /content/drive\n"
          ],
          "name": "stdout"
        }
      ]
    },
    {
      "cell_type": "code",
      "metadata": {
        "id": "C1FfxpChsTAu"
      },
      "source": [
        "healthywheathpath = \"/content/drive/MyDrive/train/healthy_wheat\"\n",
        "leafrustpath = \"/content/drive/MyDrive/train/leaf_rust\"\n",
        "stemrustpath = \"/content/drive/MyDrive/train/stem_rust\""
      ],
      "execution_count": null,
      "outputs": []
    },
    {
      "cell_type": "code",
      "metadata": {
        "id": "n8Kz8kEt5xGJ"
      },
      "source": [
        "images = \"/content/drive/MyDrive/train/wheat_diseases\"\n",
        "for image in os.listdir(images):\n",
        "  singlefile = os.path.join(images, image)\n",
        "  img = Image.open(singlefile)\n",
        "  arr = singlefile.split(\"/\")\n",
        "  arrdash = arr[-1].split(\".\")\n",
        "  arr.pop(-1)\n",
        "  arrdash[0] = arrdash[0] + \".jpg\"\n",
        "  arr.append(arrdash[0])\n",
        "  newname = \"/\".join(arr)\n",
        "  img.save(newname)\n",
        "  os.remove(singlefile)"
      ],
      "execution_count": null,
      "outputs": []
    },
    {
      "cell_type": "code",
      "metadata": {
        "id": "-Xw7rMDSz0cJ"
      },
      "source": [
        "df = []"
      ],
      "execution_count": null,
      "outputs": []
    },
    {
      "cell_type": "code",
      "metadata": {
        "id": "4BJ4iK3nyk2O"
      },
      "source": [
        "for filename in os.listdir(healthywheathpath):\n",
        "  singlepathfile = os.path.join(healthywheathpath, filename)\n",
        "  arr = singlepathfile.split(\"/\")[-1]\n",
        "  df.append([arr, 0])"
      ],
      "execution_count": null,
      "outputs": []
    },
    {
      "cell_type": "code",
      "metadata": {
        "id": "O3d9-tg5yv9p"
      },
      "source": [
        "for filename in os.listdir(leafrustpath):\n",
        "  singlepathfile = os.path.join(leafrustpath, filename)\n",
        "  arr = singlepathfile.split(\"/\")[-1]\n",
        "  df.append([arr, 1])"
      ],
      "execution_count": null,
      "outputs": []
    },
    {
      "cell_type": "code",
      "metadata": {
        "id": "3mT6GUqVyxUj"
      },
      "source": [
        "for filename in os.listdir(stemrustpath):\n",
        "  singlepathfile = os.path.join(stemrustpath, filename)\n",
        "  arr = singlepathfile.split(\"/\")[-1]\n",
        "  df.append([arr, 2])"
      ],
      "execution_count": null,
      "outputs": []
    },
    {
      "cell_type": "code",
      "metadata": {
        "id": "FLliTBtL0I0r"
      },
      "source": [
        "completedataframe = pd.DataFrame(df, columns = ['image_id', 'label'])"
      ],
      "execution_count": null,
      "outputs": []
    },
    {
      "cell_type": "code",
      "metadata": {
        "id": "aWAHTV81yBvp"
      },
      "source": [
        "completedataframe.to_csv('train.csv')"
      ],
      "execution_count": null,
      "outputs": []
    },
    {
      "cell_type": "code",
      "metadata": {
        "id": "_AU9GhWT0L5k"
      },
      "source": [
        ""
      ],
      "execution_count": null,
      "outputs": []
    }
  ]
}